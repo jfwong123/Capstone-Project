{
 "cells": [
  {
   "cell_type": "markdown",
   "metadata": {},
   "source": [
    "## Introduction / Business Problem"
   ]
  },
  {
   "cell_type": "markdown",
   "metadata": {},
   "source": [
    "Hong Kong is an international city and a well-known destination for tourists. Each year, Hong Kong attracted millions of foreign visitors (sadly a huge proportion of them are from mainland China). One of the attractions of Hong Kong is food. It is the home of lots of gourmet restaurants of international cuisines as well as local street food eateries and cafes. \n",
    "\n",
    "The purpose of my Capstone Project is to look into several pinpoint locations of each of the 3 districts (namely Central, Causeway Bay and Mongkok) which are famous for tourists, and find out the pinpoint location which has the most restaurants/cafes/eateries within the radius of 500 meters. This is to be served as a recommended location for tourists for lunch and dinner within each of the 3 districts considered in this project. Hopefully, this will help tourists to discover more gourmet food in Hong Kong and boost the recovery of tourism post-COVID 19.\n",
    "\n",
    "PS: Many restaurants/eateries/cafes serve as a haven for protesters during the crackdown from Hong Kong Police Force. The outcomes of this Capstone Project may be considered by protesters when determining the retreat destinations in order to stay safe from police brutality.\n",
    "(I hope this is not marked by a mainland Chinese as he/she will fail me :-("
   ]
  }
 ],
 "metadata": {
  "kernelspec": {
   "display_name": "Python",
   "language": "python",
   "name": "conda-env-python-py"
  },
  "language_info": {
   "codemirror_mode": {
    "name": "ipython",
    "version": 3
   },
   "file_extension": ".py",
   "mimetype": "text/x-python",
   "name": "python",
   "nbconvert_exporter": "python",
   "pygments_lexer": "ipython3",
   "version": "3.6.10"
  }
 },
 "nbformat": 4,
 "nbformat_minor": 4
}
