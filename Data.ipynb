{
 "cells": [
  {
   "cell_type": "markdown",
   "metadata": {},
   "source": [
    "## <u>Data</u>"
   ]
  },
  {
   "cell_type": "markdown",
   "metadata": {},
   "source": [
    "For each of the 3 districts (Central, Causeway Bay and Mongkok), 10 random pinpoints (with reasonable distance apart) will be selected. The number of amenities within the radius of 500 meters will be gathered from Foursquare. \n",
    "All amenities that are not restaurants/cafes/eateries will be deleted. \n",
    "\n",
    "The number of restaurants/cafes/eateries within the radius of 500 meters of each of the random pinpoints will be summed up and the pinpoint plotted on the map. The colour of the pinpoint will depend on the number of restaurants/cafes/eateries within the 500 meters radius."
   ]
  }
 ],
 "metadata": {
  "kernelspec": {
   "display_name": "Python",
   "language": "python",
   "name": "conda-env-python-py"
  },
  "language_info": {
   "codemirror_mode": {
    "name": "ipython",
    "version": 3
   },
   "file_extension": ".py",
   "mimetype": "text/x-python",
   "name": "python",
   "nbconvert_exporter": "python",
   "pygments_lexer": "ipython3",
   "version": "3.6.10"
  }
 },
 "nbformat": 4,
 "nbformat_minor": 4
}
